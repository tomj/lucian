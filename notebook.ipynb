{
 "cells": [
  {
   "cell_type": "code",
   "execution_count": 5,
   "id": "abandoned-technique",
   "metadata": {},
   "outputs": [],
   "source": [
    "import lucian\n",
    "import json"
   ]
  },
  {
   "cell_type": "code",
   "execution_count": 9,
   "id": "tired-subdivision",
   "metadata": {},
   "outputs": [
    {
     "name": "stdout",
     "output_type": "stream",
     "text": [
      "d5a9f0246c5be83201410f23fc79c161e22c50bfdb4b60b56ffd5410008e848d\n"
     ]
    }
   ],
   "source": [
    "metadata = lucian.generate_metadata(\"The Gardener\", \"2021\", \"image/tiff\", \"abc\")\n",
    "sha = lucian.metadata_sha(metadata)"
   ]
  },
  {
   "cell_type": "code",
   "execution_count": 8,
   "id": "sharp-yemen",
   "metadata": {},
   "outputs": [
    {
     "name": "stdout",
     "output_type": "stream",
     "text": [
      "b'\\xd5\\xa9\\xf0$l[\\xe82\\x01A\\x0f#\\xfcy\\xc1a\\xe2,P\\xbf\\xdbK`\\xb5o\\xfdT\\x10\\x00\\x8e\\x84\\x8d'\n",
      "d5a9f0246c5be83201410f23fc79c161e22c50bfdb4b60b56ffd5410008e848d\n"
     ]
    }
   ],
   "source": [
    "print(sha.digest())\n",
    "print(sha.hexdigest())"
   ]
  },
  {
   "cell_type": "code",
   "execution_count": null,
   "id": "coordinate-classification",
   "metadata": {},
   "outputs": [],
   "source": []
  }
 ],
 "metadata": {
  "kernelspec": {
   "display_name": "Python 3",
   "language": "python",
   "name": "python3"
  },
  "language_info": {
   "codemirror_mode": {
    "name": "ipython",
    "version": 3
   },
   "file_extension": ".py",
   "mimetype": "text/x-python",
   "name": "python",
   "nbconvert_exporter": "python",
   "pygments_lexer": "ipython3",
   "version": "3.9.1"
  }
 },
 "nbformat": 4,
 "nbformat_minor": 5
}
