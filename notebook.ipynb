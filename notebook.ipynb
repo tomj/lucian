{
 "cells": [
  {
   "cell_type": "code",
   "execution_count": 1,
   "id": "silent-capacity",
   "metadata": {},
   "outputs": [],
   "source": [
    "import lucian"
   ]
  },
  {
   "cell_type": "code",
   "execution_count": 2,
   "id": "motivated-stick",
   "metadata": {},
   "outputs": [],
   "source": [
    "metadata = lucian.generate_metadata(\"The Gardener\", \"2021\", \"image/tiff\")"
   ]
  },
  {
   "cell_type": "code",
   "execution_count": 3,
   "id": "assured-audit",
   "metadata": {},
   "outputs": [],
   "source": [
    "import json"
   ]
  },
  {
   "cell_type": "code",
   "execution_count": 4,
   "id": "tribal-wireless",
   "metadata": {},
   "outputs": [
    {
     "data": {
      "text/plain": [
       "'{\"description\":\"2021\",\"mimeType\":\"image/tiff\",\"name\":\"The Gardener\",\"version\":\"zora-20210101\"}'"
      ]
     },
     "execution_count": 4,
     "metadata": {},
     "output_type": "execute_result"
    }
   ],
   "source": [
    "json.dumps(metadata, separators=(',', ':'))"
   ]
  },
  {
   "cell_type": "code",
   "execution_count": 5,
   "id": "desirable-algeria",
   "metadata": {},
   "outputs": [
    {
     "name": "stdout",
     "output_type": "stream",
     "text": [
      "2bc47a656683a53973669cce69e1b1d620ee5eaf187e5a7a64ad62ba2c317703\n"
     ]
    }
   ],
   "source": [
    "sha = lucian.metadata_sha(metadata)"
   ]
  },
  {
   "cell_type": "code",
   "execution_count": 6,
   "id": "downtown-salon",
   "metadata": {},
   "outputs": [
    {
     "data": {
      "text/plain": [
       "b'+\\xc4zef\\x83\\xa59sf\\x9c\\xcei\\xe1\\xb1\\xd6 \\xee^\\xaf\\x18~Zzd\\xadb\\xba,1w\\x03'"
      ]
     },
     "execution_count": 6,
     "metadata": {},
     "output_type": "execute_result"
    }
   ],
   "source": [
    "sha"
   ]
  },
  {
   "cell_type": "code",
   "execution_count": 7,
   "id": "sporting-surgeon",
   "metadata": {},
   "outputs": [
    {
     "data": {
      "text/plain": [
       "\"b'+\\\\xc4zef\\\\x83\\\\xa59sf\\\\x9c\\\\xcei\\\\xe1\\\\xb1\\\\xd6 \\\\xee^\\\\xaf\\\\x18~Zzd\\\\xadb\\\\xba,1w\\\\x03'\""
      ]
     },
     "execution_count": 7,
     "metadata": {},
     "output_type": "execute_result"
    }
   ],
   "source": [
    "str(sha)"
   ]
  },
  {
   "cell_type": "code",
   "execution_count": null,
   "id": "ignored-accounting",
   "metadata": {},
   "outputs": [],
   "source": []
  }
 ],
 "metadata": {
  "kernelspec": {
   "display_name": "Python 3",
   "language": "python",
   "name": "python3"
  },
  "language_info": {
   "codemirror_mode": {
    "name": "ipython",
    "version": 3
   },
   "file_extension": ".py",
   "mimetype": "text/x-python",
   "name": "python",
   "nbconvert_exporter": "python",
   "pygments_lexer": "ipython3",
   "version": "3.9.1"
  }
 },
 "nbformat": 4,
 "nbformat_minor": 5
}
